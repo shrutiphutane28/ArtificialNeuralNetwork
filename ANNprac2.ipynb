{
 "cells": [
  {
   "cell_type": "code",
   "execution_count": 1,
   "id": "6b0ed674-a35b-460a-8da4-d53a12c36fcc",
   "metadata": {},
   "outputs": [
    {
     "name": "stdin",
     "output_type": "stream",
     "text": [
      "Enter the threshold value:  1\n"
     ]
    },
    {
     "name": "stdout",
     "output_type": "stream",
     "text": [
      "\n",
      "Enter values for iteration 1:\n"
     ]
    },
    {
     "name": "stdin",
     "output_type": "stream",
     "text": [
      "Enter the input 1 value:  1\n",
      "Enter the input 2 value:  1\n"
     ]
    },
    {
     "name": "stdout",
     "output_type": "stream",
     "text": [
      "Output for 1 and 1 is: 0\n",
      "\n",
      "Enter values for iteration 2:\n"
     ]
    },
    {
     "name": "stdin",
     "output_type": "stream",
     "text": [
      "Enter the input 1 value:  1\n",
      "Enter the input 2 value:  0\n"
     ]
    },
    {
     "name": "stdout",
     "output_type": "stream",
     "text": [
      "Output for 1 and 0 is: 1\n",
      "\n",
      "Enter values for iteration 3:\n"
     ]
    },
    {
     "name": "stdin",
     "output_type": "stream",
     "text": [
      "Enter the input 1 value:  0\n",
      "Enter the input 2 value:  1\n"
     ]
    },
    {
     "name": "stdout",
     "output_type": "stream",
     "text": [
      "Output for 0 and 1 is: 0\n",
      "\n",
      "Enter values for iteration 4:\n"
     ]
    },
    {
     "name": "stdin",
     "output_type": "stream",
     "text": [
      "Enter the input 1 value:  0\n",
      "Enter the input 2 value:  0\n"
     ]
    },
    {
     "name": "stdout",
     "output_type": "stream",
     "text": [
      "Output for 0 and 0 is: 0\n",
      "\n"
     ]
    }
   ],
   "source": [
    "import numpy as np\n",
    "\n",
    "def McCulloch_pitts(input, weights, threshold):\n",
    "    activation = input[0]*weights[0] + input[1]*weights[1]\n",
    "    output = 1 if activation >= threshold else 0\n",
    "    return output\n",
    "\n",
    "def ANDNOT(x1, x2, threshold):\n",
    "    input = [x1, x2]\n",
    "    weights = [1, -1]\n",
    "    return McCulloch_pitts(input, weights, threshold)\n",
    "\n",
    "threshold = int(input(\"Enter the threshold value: \")) #use threshold as 1\n",
    "print()\n",
    "for i in range(4):\n",
    "    print(f\"Enter values for iteration {i+1}:\")\n",
    "    x1 = int(input(\"Enter the input 1 value: \"))\n",
    "    x2 = int(input(\"Enter the input 2 value: \"))\n",
    "    print(f\"Output for {x1} and {x2} is:\", ANDNOT(x1, x2, threshold))\n",
    "    print()"
   ]
  },
  {
   "cell_type": "code",
   "execution_count": 2,
   "id": "49676873-bcc0-407d-9167-a40c3dea4888",
   "metadata": {},
   "outputs": [
    {
     "name": "stdin",
     "output_type": "stream",
     "text": [
      "Enter the threshold value:  1\n"
     ]
    },
    {
     "name": "stdout",
     "output_type": "stream",
     "text": [
      "\n",
      "Enter values for iteration 1:\n"
     ]
    },
    {
     "name": "stdin",
     "output_type": "stream",
     "text": [
      "Enter the input 1 value:  1\n",
      "Enter the input 2 value:  1\n"
     ]
    },
    {
     "name": "stdout",
     "output_type": "stream",
     "text": [
      "Output for 1 and 1 is: 1\n",
      "\n",
      "Enter values for iteration 2:\n"
     ]
    },
    {
     "name": "stdin",
     "output_type": "stream",
     "text": [
      "Enter the input 1 value:  1\n",
      "Enter the input 2 value:  0\n"
     ]
    },
    {
     "name": "stdout",
     "output_type": "stream",
     "text": [
      "Output for 1 and 0 is: 1\n",
      "\n",
      "Enter values for iteration 3:\n"
     ]
    },
    {
     "name": "stdin",
     "output_type": "stream",
     "text": [
      "Enter the input 1 value:  0\n",
      "Enter the input 2 value:  1\n"
     ]
    },
    {
     "name": "stdout",
     "output_type": "stream",
     "text": [
      "Output for 0 and 1 is: 1\n",
      "\n",
      "Enter values for iteration 4:\n"
     ]
    },
    {
     "name": "stdin",
     "output_type": "stream",
     "text": [
      "Enter the input 1 value:  0\n",
      "Enter the input 2 value:  0\n"
     ]
    },
    {
     "name": "stdout",
     "output_type": "stream",
     "text": [
      "Output for 0 and 0 is: 0\n",
      "\n"
     ]
    }
   ],
   "source": [
    "import numpy as np\n",
    "\n",
    "def McCulloch_pitts(input, weights, threshold):\n",
    "    activation = input[0]*weights[0] + input[1]*weights[1]\n",
    "    output = 1 if activation >= threshold else 0\n",
    "    return output\n",
    "\n",
    "def ORGATE(x1, x2, threshold):\n",
    "    input = [x1, x2]\n",
    "    weights = [1, 1]\n",
    "    return McCulloch_pitts(input, weights, threshold)\n",
    "\n",
    "threshold = int(input(\"Enter the threshold value: \")) #use threshold as 1\n",
    "print()\n",
    "for i in range(4):\n",
    "    print(f\"Enter values for iteration {i+1}:\")\n",
    "    x1 = int(input(\"Enter the input 1 value: \"))\n",
    "    x2 = int(input(\"Enter the input 2 value: \"))\n",
    "    print(f\"Output for {x1} and {x2} is:\", ORGATE(x1, x2, threshold))\n",
    "    print()"
   ]
  },
  {
   "cell_type": "code",
   "execution_count": 3,
   "id": "7e2b0f39-1566-41cd-a751-dc9918740c14",
   "metadata": {},
   "outputs": [
    {
     "name": "stdin",
     "output_type": "stream",
     "text": [
      "Enter the threshold value:  2\n"
     ]
    },
    {
     "name": "stdout",
     "output_type": "stream",
     "text": [
      "\n",
      "Enter values for iteration 1:\n"
     ]
    },
    {
     "name": "stdin",
     "output_type": "stream",
     "text": [
      "Enter the input 1 value:  0\n",
      "Enter the input 2 value:  0\n"
     ]
    },
    {
     "name": "stdout",
     "output_type": "stream",
     "text": [
      "Output for 0 and 0 is: 0\n",
      "\n",
      "Enter values for iteration 2:\n"
     ]
    },
    {
     "name": "stdin",
     "output_type": "stream",
     "text": [
      "Enter the input 1 value:  0\n",
      "Enter the input 2 value:  1\n"
     ]
    },
    {
     "name": "stdout",
     "output_type": "stream",
     "text": [
      "Output for 0 and 1 is: 0\n",
      "\n",
      "Enter values for iteration 3:\n"
     ]
    },
    {
     "name": "stdin",
     "output_type": "stream",
     "text": [
      "Enter the input 1 value:  1\n",
      "Enter the input 2 value:  0\n"
     ]
    },
    {
     "name": "stdout",
     "output_type": "stream",
     "text": [
      "Output for 1 and 0 is: 0\n",
      "\n",
      "Enter values for iteration 4:\n"
     ]
    },
    {
     "name": "stdin",
     "output_type": "stream",
     "text": [
      "Enter the input 1 value:  1\n",
      "Enter the input 2 value:  1\n"
     ]
    },
    {
     "name": "stdout",
     "output_type": "stream",
     "text": [
      "Output for 1 and 1 is: 1\n",
      "\n"
     ]
    }
   ],
   "source": [
    "import numpy as np\n",
    "\n",
    "def McCulloch_pitts(input, weights, threshold):\n",
    "    activation = input[0]*weights[0] + input[1]*weights[1]\n",
    "    output = 1 if activation >= threshold else 0\n",
    "    return output\n",
    "\n",
    "def AND(x1, x2, threshold):\n",
    "    input = [x1, x2]\n",
    "    weights = [1, 1]\n",
    "    return McCulloch_pitts(input, weights, threshold)\n",
    "\n",
    "threshold = int(input(\"Enter the threshold value: \")) #use threshold as 2\n",
    "print()\n",
    "for i in range(4):\n",
    "    print(f\"Enter values for iteration {i+1}:\")\n",
    "    x1 = int(input(\"Enter the input 1 value: \"))\n",
    "    x2 = int(input(\"Enter the input 2 value: \"))\n",
    "    print(f\"Output for {x1} and {x2} is:\", AND(x1, x2, threshold))\n",
    "    print()"
   ]
  }
 ],
 "metadata": {
  "kernelspec": {
   "display_name": "Python 3 (ipykernel)",
   "language": "python",
   "name": "python3"
  },
  "language_info": {
   "codemirror_mode": {
    "name": "ipython",
    "version": 3
   },
   "file_extension": ".py",
   "mimetype": "text/x-python",
   "name": "python",
   "nbconvert_exporter": "python",
   "pygments_lexer": "ipython3",
   "version": "3.12.1"
  }
 },
 "nbformat": 4,
 "nbformat_minor": 5
}
