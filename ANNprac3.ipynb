{
 "cells": [
  {
   "cell_type": "code",
   "execution_count": 11,
   "id": "bf349df2-f4e3-4603-b869-7aadb810b7ac",
   "metadata": {},
   "outputs": [
    {
     "name": "stdin",
     "output_type": "stream",
     "text": [
      "Enter a number between 0-9:-  2\n"
     ]
    },
    {
     "name": "stdout",
     "output_type": "stream",
     "text": [
      "The perceptron predicts that the ASCII representation of 2 is even.\n"
     ]
    }
   ],
   "source": [
    "import numpy as np\n",
    "\n",
    "def initialize_perceptron(input_size):\n",
    "    weights = np.zeros(input_size)\n",
    "    bias = 0\n",
    "    return weights, bias\n",
    "\n",
    "def predict(inputs, weights, bias):\n",
    "    summation = np.dot(inputs, weights) + bias\n",
    "    return 1 if summation > 0 else 0\n",
    "\n",
    "def train_perceptron(weights, bias, training_inputs, labels, epochs=100, learning_rate=0.1):\n",
    "    for epoch in range(epochs):\n",
    "        for inputs, label in zip(training_inputs, labels):\n",
    "            prediction = predict(inputs, weights, bias)\n",
    "            inputs = np.array(inputs)\n",
    "            weights += learning_rate * (label - prediction) * inputs\n",
    "            bias += learning_rate * (label - prediction)\n",
    "    return weights, bias\n",
    "\n",
    "def ascii_to_binary(ascii_val):\n",
    "    binary_val = format(ascii_val, '08b')\n",
    "    return [int(bit) for bit in binary_val]\n",
    "\n",
    "training_data = [ascii_to_binary(i) for i in range(10)]\n",
    "\n",
    "labels = [1, 0, 1, 0, 1, 0, 1, 0, 1, 0]\n",
    "\n",
    "weights, bias = initialize_perceptron(input_size=8)\n",
    "\n",
    "weights, bias = train_perceptron(weights, bias, training_data, labels, epochs=1000, learning_rate=0.1)\n",
    "\n",
    "test_number = int(input(\"Enter a number between 0-9:- \"))\n",
    "if test_number in range(0,10):\n",
    "    test_input = ascii_to_binary(test_number)\n",
    "    prediction = predict(test_input, weights, bias)\n",
    "    print(f\"The perceptron predicts that the ASCII representation of {test_number} is {'even' if prediction == 1 else 'odd'}.\")\n",
    "else:\n",
    "    print(\"Invalid input\")\n"
   ]
  },
  {
   "cell_type": "code",
   "execution_count": null,
   "id": "7bc36d8b-2c39-4a0f-b35e-04c294784bf7",
   "metadata": {},
   "outputs": [],
   "source": []
  }
 ],
 "metadata": {
  "kernelspec": {
   "display_name": "Python 3 (ipykernel)",
   "language": "python",
   "name": "python3"
  },
  "language_info": {
   "codemirror_mode": {
    "name": "ipython",
    "version": 3
   },
   "file_extension": ".py",
   "mimetype": "text/x-python",
   "name": "python",
   "nbconvert_exporter": "python",
   "pygments_lexer": "ipython3",
   "version": "3.11.5"
  }
 },
 "nbformat": 4,
 "nbformat_minor": 5
}
