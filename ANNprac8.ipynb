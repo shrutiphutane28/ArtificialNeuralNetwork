{
  "nbformat": 4,
  "nbformat_minor": 0,
  "metadata": {
    "colab": {
      "provenance": []
    },
    "kernelspec": {
      "name": "python3",
      "display_name": "Python 3"
    },
    "language_info": {
      "name": "python"
    }
  },
  "cells": [
    {
      "cell_type": "code",
      "execution_count": 1,
      "metadata": {
        "id": "9wekxQxK5JCD"
      },
      "outputs": [],
      "source": [
        "x1 = [[1,1, 1, 1]];\n",
        "x2 = [[1,-1,-1, 1]];\n",
        "x3 = [[-1,1,-1,-1]];\n",
        "x4 = [[1,-1,-1,-1]];"
      ]
    },
    {
      "cell_type": "code",
      "source": [
        "import numpy as np\n",
        "# Transpose\n",
        "x11 = np.transpose(x1, axes = None)\n",
        "print(x11)\n",
        "w1 = x1*x11\n",
        "print(w1)\n",
        "x21 = np.transpose(x2, axes = None)\n",
        "print(x21)\n",
        "w2 = x2*x21\n",
        "print(w2)\n",
        "x31 = np.transpose(x3, axes = None)\n",
        "print(x31)\n",
        "w3 = x3*x31\n",
        "print(w3)\n",
        "x41 = np.transpose(x4, axes = None)\n",
        "print(x41)\n",
        "w4 = x4*x41\n",
        "print(w4)"
      ],
      "metadata": {
        "colab": {
          "base_uri": "https://localhost:8080/"
        },
        "id": "LDo-4gst5TYE",
        "outputId": "0d7742f6-8ea9-45ed-9b65-6f71c4f6217d"
      },
      "execution_count": 2,
      "outputs": [
        {
          "output_type": "stream",
          "name": "stdout",
          "text": [
            "[[1]\n",
            " [1]\n",
            " [1]\n",
            " [1]]\n",
            "[[1 1 1 1]\n",
            " [1 1 1 1]\n",
            " [1 1 1 1]\n",
            " [1 1 1 1]]\n",
            "[[ 1]\n",
            " [-1]\n",
            " [-1]\n",
            " [ 1]]\n",
            "[[ 1 -1 -1  1]\n",
            " [-1  1  1 -1]\n",
            " [-1  1  1 -1]\n",
            " [ 1 -1 -1  1]]\n",
            "[[-1]\n",
            " [ 1]\n",
            " [-1]\n",
            " [-1]]\n",
            "[[ 1 -1  1  1]\n",
            " [-1  1 -1 -1]\n",
            " [ 1 -1  1  1]\n",
            " [ 1 -1  1  1]]\n",
            "[[ 1]\n",
            " [-1]\n",
            " [-1]\n",
            " [-1]]\n",
            "[[ 1 -1 -1 -1]\n",
            " [-1  1  1  1]\n",
            " [-1  1  1  1]\n",
            " [-1  1  1  1]]\n"
          ]
        }
      ]
    },
    {
      "cell_type": "code",
      "source": [
        "W = w1+w2+w3+w4\n",
        "print(W)"
      ],
      "metadata": {
        "colab": {
          "base_uri": "https://localhost:8080/"
        },
        "id": "v7MSHcLK5U8m",
        "outputId": "a3594a5f-69c5-40b5-872e-c7af0140bec3"
      },
      "execution_count": 3,
      "outputs": [
        {
          "output_type": "stream",
          "name": "stdout",
          "text": [
            "[[ 4 -2  0  2]\n",
            " [-2  4  2  0]\n",
            " [ 0  2  4  2]\n",
            " [ 2  0  2  4]]\n"
          ]
        }
      ]
    },
    {
      "cell_type": "code",
      "source": [
        "np.dot(x1,W)"
      ],
      "metadata": {
        "colab": {
          "base_uri": "https://localhost:8080/"
        },
        "id": "9aylpRCj-CpX",
        "outputId": "f5fca23e-f0a7-4db4-9bd3-1ac2c6fbd740"
      },
      "execution_count": 4,
      "outputs": [
        {
          "output_type": "execute_result",
          "data": {
            "text/plain": [
              "array([[4, 4, 8, 8]])"
            ]
          },
          "metadata": {},
          "execution_count": 4
        }
      ]
    },
    {
      "cell_type": "code",
      "source": [
        "def make_diagonal_zero(matrix):\n",
        "    for i in range(min(len(matrix), len(matrix[0]))):\n",
        "        matrix[i][i] = 0\n",
        "    return matrix"
      ],
      "metadata": {
        "id": "0gMkk-lD-DLa"
      },
      "execution_count": 5,
      "outputs": []
    },
    {
      "cell_type": "code",
      "source": [
        "W_rev = make_diagonal_zero(W)\n",
        "print(W_rev)"
      ],
      "metadata": {
        "colab": {
          "base_uri": "https://localhost:8080/"
        },
        "id": "P4ld4YME-GMx",
        "outputId": "082df3a3-b948-4a02-c55f-28e3620a6880"
      },
      "execution_count": 6,
      "outputs": [
        {
          "output_type": "stream",
          "name": "stdout",
          "text": [
            "[[ 0 -2  0  2]\n",
            " [-2  0  2  0]\n",
            " [ 0  2  0  2]\n",
            " [ 2  0  2  0]]\n"
          ]
        }
      ]
    },
    {
      "cell_type": "code",
      "source": [
        "print(W)"
      ],
      "metadata": {
        "colab": {
          "base_uri": "https://localhost:8080/"
        },
        "id": "pboMGxYg-Gu5",
        "outputId": "5c0b307f-a4d5-4fc5-b5df-3d53d1b14c9a"
      },
      "execution_count": 7,
      "outputs": [
        {
          "output_type": "stream",
          "name": "stdout",
          "text": [
            "[[ 0 -2  0  2]\n",
            " [-2  0  2  0]\n",
            " [ 0  2  0  2]\n",
            " [ 2  0  2  0]]\n"
          ]
        }
      ]
    },
    {
      "cell_type": "code",
      "source": [
        "# testing of the Hopfield vectors\n",
        "xt1 = np.dot(x1,W_rev)\n",
        "print(xt1)"
      ],
      "metadata": {
        "colab": {
          "base_uri": "https://localhost:8080/"
        },
        "id": "NSmAIjhK-IX1",
        "outputId": "252a5dc5-4bd0-4e71-a2af-e4dadd360663"
      },
      "execution_count": 8,
      "outputs": [
        {
          "output_type": "stream",
          "name": "stdout",
          "text": [
            "[[0 0 4 4]]\n"
          ]
        }
      ]
    },
    {
      "cell_type": "code",
      "source": [
        "def activate(x, theta=0):\n",
        "    return np.where(x>theta, 1, np.where(x == theta, x, 0))"
      ],
      "metadata": {
        "id": "0SO7waVe-Kxc"
      },
      "execution_count": 9,
      "outputs": []
    },
    {
      "cell_type": "code",
      "source": [
        "xt1_act = activate(xt1)\n",
        "print(xt1_act)"
      ],
      "metadata": {
        "colab": {
          "base_uri": "https://localhost:8080/"
        },
        "id": "rZcW2vbm-NCc",
        "outputId": "d1144c4e-14ef-45c3-993d-5bfeccc24d85"
      },
      "execution_count": 10,
      "outputs": [
        {
          "output_type": "stream",
          "name": "stdout",
          "text": [
            "[[0 0 1 1]]\n"
          ]
        }
      ]
    },
    {
      "cell_type": "code",
      "source": [
        "if(np.array_equal(x1, xt1_act)):\n",
        "  print(\"testing complete\")\n",
        "else: print(\"testing failed\")"
      ],
      "metadata": {
        "colab": {
          "base_uri": "https://localhost:8080/"
        },
        "id": "FyMmeQFy-Or3",
        "outputId": "0c1c4917-0094-4ae4-e56f-b22c6540603c"
      },
      "execution_count": 11,
      "outputs": [
        {
          "output_type": "stream",
          "name": "stdout",
          "text": [
            "testing failed\n"
          ]
        }
      ]
    }
  ]
}