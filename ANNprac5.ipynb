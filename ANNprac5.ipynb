{
 "cells": [
  {
   "cell_type": "code",
   "execution_count": 1,
   "id": "a82ca633-9cc9-444d-a712-b65c883bce2d",
   "metadata": {},
   "outputs": [],
   "source": [
    "import numpy as np"
   ]
  },
  {
   "cell_type": "markdown",
   "id": "bc1b21f6-fd41-44a0-b06c-06d1ec0b94ec",
   "metadata": {},
   "source": [
    "Define activation function with default threshold 0"
   ]
  },
  {
   "cell_type": "code",
   "execution_count": 2,
   "id": "b3fcebc2-dccc-432d-8b4d-70bda8c351f5",
   "metadata": {},
   "outputs": [],
   "source": [
    "def activation(x, threshold=0):\n",
    "    return np.where(x > threshold, 1, np.where(x == threshold, x, 0))"
   ]
  },
  {
   "cell_type": "markdown",
   "id": "fe43f5f9-700c-4434-ae03-c638962927f4",
   "metadata": {},
   "source": [
    "Helper function to convert given pattern into bipolar form"
   ]
  },
  {
   "cell_type": "code",
   "execution_count": 3,
   "id": "404932f5-b2a2-4be6-98bd-39e0d4397874",
   "metadata": {},
   "outputs": [],
   "source": [
    "toBipolar = lambda x: -1 if x == 0 else 1"
   ]
  },
  {
   "cell_type": "markdown",
   "id": "96de3c16-a7a6-4d61-8e68-52fff097127c",
   "metadata": {},
   "source": [
    "Define input pattern"
   ]
  },
  {
   "cell_type": "code",
   "execution_count": 4,
   "id": "6074acb1-ed24-4575-8706-92fe59f51255",
   "metadata": {},
   "outputs": [],
   "source": [
    "s_pattern1 = np.array([0, 1, 0, 1])\n",
    "s_pattern2 = np.array([1, 0, 1, 0])"
   ]
  },
  {
   "cell_type": "markdown",
   "id": "133a91e1-b546-4791-a721-70ac4c1dc982",
   "metadata": {},
   "source": [
    "Construct bipolar input vector from input pattern"
   ]
  },
  {
   "cell_type": "code",
   "execution_count": 5,
   "id": "35540a6a-85a5-4f19-a1b0-a571d17bbe46",
   "metadata": {},
   "outputs": [
    {
     "data": {
      "text/plain": [
       "array([[-1,  1, -1,  1],\n",
       "       [ 1, -1,  1, -1]])"
      ]
     },
     "execution_count": 5,
     "metadata": {},
     "output_type": "execute_result"
    }
   ],
   "source": [
    "input_vector = np.array([list(map(toBipolar, s_pattern1)), list(map(toBipolar, s_pattern2))])\n",
    "input_vector"
   ]
  },
  {
   "cell_type": "markdown",
   "id": "d4b9fa2f-ced4-436d-ab75-41e33563092b",
   "metadata": {},
   "source": [
    "Define target patterns"
   ]
  },
  {
   "cell_type": "code",
   "execution_count": 6,
   "id": "6fcd6273-8c07-4f32-bc7e-379c611bfe6c",
   "metadata": {},
   "outputs": [],
   "source": [
    "t_pattern1 = np.array([0, 1])\n",
    "t_pattern2 = np.array([1, 0])"
   ]
  },
  {
   "cell_type": "markdown",
   "id": "a47e1741-42fa-4b56-8484-9e6cf21ba21d",
   "metadata": {},
   "source": [
    "Construct Bipolar Target Vector from Target Pattern"
   ]
  },
  {
   "cell_type": "code",
   "execution_count": 7,
   "id": "6a380c89-6fd9-4d1e-ac92-06337f46b227",
   "metadata": {},
   "outputs": [
    {
     "data": {
      "text/plain": [
       "array([[-1,  1],\n",
       "       [ 1, -1]])"
      ]
     },
     "execution_count": 7,
     "metadata": {},
     "output_type": "execute_result"
    }
   ],
   "source": [
    "target_vector = np.array([list(map(toBipolar, t_pattern1)), list(map(toBipolar, t_pattern2))])\n",
    "target_vector"
   ]
  },
  {
   "cell_type": "markdown",
   "id": "34c7288d-3d21-4de4-a7f2-5d8f30d0bdd9",
   "metadata": {},
   "source": [
    "Compute weight matrix by Outer Product Rule"
   ]
  },
  {
   "cell_type": "code",
   "execution_count": 8,
   "id": "c09ad5ab-171d-4575-94fa-60d7c5eb3cda",
   "metadata": {},
   "outputs": [
    {
     "data": {
      "text/plain": [
       "array([[ 2, -2],\n",
       "       [-2,  2],\n",
       "       [ 2, -2],\n",
       "       [-2,  2]])"
      ]
     },
     "execution_count": 8,
     "metadata": {},
     "output_type": "execute_result"
    }
   ],
   "source": [
    "weight_matrix = np.dot(input_vector.T, target_vector)\n",
    "weight_matrix"
   ]
  },
  {
   "cell_type": "markdown",
   "id": "1f53a631-6bf7-41a1-8330-216a3febb808",
   "metadata": {},
   "source": [
    "Forward Pass s -> t"
   ]
  },
  {
   "cell_type": "code",
   "execution_count": 9,
   "id": "b976190d-0cdc-48ed-9077-adbbafec4a15",
   "metadata": {},
   "outputs": [
    {
     "data": {
      "text/plain": [
       "array([-4,  4])"
      ]
     },
     "execution_count": 9,
     "metadata": {},
     "output_type": "execute_result"
    }
   ],
   "source": [
    "t_in1 = np.dot(s_pattern1, weight_matrix)\n",
    "t_in1"
   ]
  },
  {
   "cell_type": "markdown",
   "id": "e060a070-c400-406f-800d-16dfe1f17990",
   "metadata": {},
   "source": [
    "Activate Value"
   ]
  },
  {
   "cell_type": "code",
   "execution_count": 10,
   "id": "ebebe02e-c6b4-4af8-a9ab-337ab19a08ff",
   "metadata": {},
   "outputs": [
    {
     "data": {
      "text/plain": [
       "array([0, 1])"
      ]
     },
     "execution_count": 10,
     "metadata": {},
     "output_type": "execute_result"
    }
   ],
   "source": [
    "t_1 = activation(t_in1)\n",
    "t_1"
   ]
  },
  {
   "cell_type": "markdown",
   "id": "8df10b15-a85d-4169-838c-78ab43887d78",
   "metadata": {},
   "source": [
    "Check if Activated Pattern is Same as Input Pattern"
   ]
  },
  {
   "cell_type": "code",
   "execution_count": 11,
   "id": "31a3cc53-0d99-4105-ae48-75f4fbc8aaa7",
   "metadata": {},
   "outputs": [
    {
     "name": "stdout",
     "output_type": "stream",
     "text": [
      "Correct Response\n"
     ]
    }
   ],
   "source": [
    "if np.array_equal(t_1, t_pattern1):\n",
    "    print(\"Correct Response\")\n",
    "else:\n",
    "    print(\"Incorrect Response\")"
   ]
  },
  {
   "cell_type": "code",
   "execution_count": 12,
   "id": "7ff3e270-7885-4794-b9d3-04170da35671",
   "metadata": {},
   "outputs": [
    {
     "data": {
      "text/plain": [
       "array([ 4, -4])"
      ]
     },
     "execution_count": 12,
     "metadata": {},
     "output_type": "execute_result"
    }
   ],
   "source": [
    "t_in2 = np.dot(s_pattern2, weight_matrix)\n",
    "t_in2"
   ]
  },
  {
   "cell_type": "code",
   "execution_count": 13,
   "id": "91fb96dc-a4f1-467b-9a31-548f78387f8c",
   "metadata": {},
   "outputs": [
    {
     "data": {
      "text/plain": [
       "array([1, 0])"
      ]
     },
     "execution_count": 13,
     "metadata": {},
     "output_type": "execute_result"
    }
   ],
   "source": [
    "t_2 = activation(t_in2)\n",
    "t_2"
   ]
  },
  {
   "cell_type": "code",
   "execution_count": 14,
   "id": "13426d6b-542d-486a-9319-23f9c94ecbc0",
   "metadata": {},
   "outputs": [
    {
     "name": "stdout",
     "output_type": "stream",
     "text": [
      "Correct Response\n"
     ]
    }
   ],
   "source": [
    "if np.array_equal(t_2, t_pattern2):\n",
    "    print(\"Correct Response\")\n",
    "else:\n",
    "    print(\"Incorrect Response\")"
   ]
  },
  {
   "cell_type": "markdown",
   "id": "d22468dc-7a23-4804-a779-7982cd8284ee",
   "metadata": {},
   "source": [
    "Backward Pass t -> s"
   ]
  },
  {
   "cell_type": "code",
   "execution_count": 15,
   "id": "c3382342-d0df-4478-842b-0a4cbef676fc",
   "metadata": {},
   "outputs": [
    {
     "data": {
      "text/plain": [
       "array([-2,  2, -2,  2])"
      ]
     },
     "execution_count": 15,
     "metadata": {},
     "output_type": "execute_result"
    }
   ],
   "source": [
    "s_in1 = np.dot(t_pattern1, weight_matrix.T)\n",
    "s_in1"
   ]
  },
  {
   "cell_type": "code",
   "execution_count": 16,
   "id": "cbbf82d6-fc8d-42b1-a22f-73059f784559",
   "metadata": {},
   "outputs": [
    {
     "data": {
      "text/plain": [
       "array([0, 1, 0, 1])"
      ]
     },
     "execution_count": 16,
     "metadata": {},
     "output_type": "execute_result"
    }
   ],
   "source": [
    "s_1 = activation(s_in1)\n",
    "s_1"
   ]
  },
  {
   "cell_type": "code",
   "execution_count": 17,
   "id": "b0e8e874-2a6f-40a9-a2e3-c90abe33771f",
   "metadata": {},
   "outputs": [
    {
     "name": "stdout",
     "output_type": "stream",
     "text": [
      "Correct Response\n"
     ]
    }
   ],
   "source": [
    "if np.array_equal(s_1, s_pattern1):\n",
    "    print(\"Correct Response\")\n",
    "else:\n",
    "    print(\"Incorrect Response\")"
   ]
  },
  {
   "cell_type": "code",
   "execution_count": 18,
   "id": "8f8d4c38-21ae-4a6e-97c5-4b99ad74b683",
   "metadata": {},
   "outputs": [
    {
     "data": {
      "text/plain": [
       "array([ 2, -2,  2, -2])"
      ]
     },
     "execution_count": 18,
     "metadata": {},
     "output_type": "execute_result"
    }
   ],
   "source": [
    "s_in2 = np.dot(t_pattern2, weight_matrix.T)\n",
    "s_in2"
   ]
  },
  {
   "cell_type": "code",
   "execution_count": 19,
   "id": "1044ab7e-9d29-44d9-bc94-8982f7e80d66",
   "metadata": {},
   "outputs": [
    {
     "data": {
      "text/plain": [
       "array([1, 0, 1, 0])"
      ]
     },
     "execution_count": 19,
     "metadata": {},
     "output_type": "execute_result"
    }
   ],
   "source": [
    "s_2 = activation(s_in2)\n",
    "s_2"
   ]
  },
  {
   "cell_type": "code",
   "execution_count": 20,
   "id": "da7270b0-ab7e-4af8-bdc6-fc22427d1dbf",
   "metadata": {},
   "outputs": [
    {
     "name": "stdout",
     "output_type": "stream",
     "text": [
      "Correct Response\n"
     ]
    }
   ],
   "source": [
    "if np.array_equal(s_2, s_pattern2):\n",
    "    print(\"Correct Response\")\n",
    "else:\n",
    "    print(\"Incorrect Response\")"
   ]
  }
 ],
 "metadata": {
  "kernelspec": {
   "display_name": "Python 3 (ipykernel)",
   "language": "python",
   "name": "python3"
  },
  "language_info": {
   "codemirror_mode": {
    "name": "ipython",
    "version": 3
   },
   "file_extension": ".py",
   "mimetype": "text/x-python",
   "name": "python",
   "nbconvert_exporter": "python",
   "pygments_lexer": "ipython3",
   "version": "3.11.5"
  }
 },
 "nbformat": 4,
 "nbformat_minor": 5
}
